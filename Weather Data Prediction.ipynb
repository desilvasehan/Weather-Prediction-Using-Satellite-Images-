{
 "cells": [
  {
   "cell_type": "code",
   "execution_count": 13,
   "metadata": {},
   "outputs": [],
   "source": [
    "import requests\n",
    "from datetime import date\n",
    "import datetime\n",
    "import PIL\n",
    "from PIL import Image\n",
    "import PIL.ImageOps\n",
    "import os"
   ]
  },
  {
   "cell_type": "code",
   "execution_count": 2,
   "metadata": {},
   "outputs": [],
   "source": [
    "file_name = 'day_'\n",
    "extension = '.JPEG'\n",
    "p_date = date.today()\n",
    "URL_1 = 'https://wvs.earthdata.nasa.gov/api/v1/snapshot?REQUEST=GetSnapshot&LAYERS=VIIRS_SNPP_CorrectedReflectance_TrueColor,Reference_Features&CRS=EPSG:4326&TIME='\n",
    "URL_2 = '&WRAP=DAY,X&BBOX=4.75708,75.948486,10.469971,84.737549&FORMAT=image/jpeg&WIDTH=4000&HEIGHT=2600&AUTOSCALE=TRUE&ts=1603200863039'"
   ]
  },
  {
   "cell_type": "code",
   "execution_count": 16,
   "metadata": {},
   "outputs": [],
   "source": [
    "# Save Image\n",
    "def save_image(image, path):\n",
    "    if os.path.exists(path):\n",
    "        os.remove(path)\n",
    "    \n",
    "    image.save(path, 'JPEG')"
   ]
  },
  {
   "cell_type": "code",
   "execution_count": 4,
   "metadata": {},
   "outputs": [
    {
     "name": "stdout",
     "output_type": "stream",
     "text": [
      "2020-10-20.JPEG saved\n",
      "2020-10-19.JPEG saved\n",
      "2020-10-18.JPEG saved\n",
      "2020-10-17.JPEG saved\n",
      "2020-10-16.JPEG saved\n",
      "2020-10-15.JPEG saved\n",
      "2020-10-14.JPEG saved\n",
      "2020-10-13.JPEG saved\n",
      "2020-10-12.JPEG saved\n",
      "2020-10-11.JPEG saved\n"
     ]
    }
   ],
   "source": [
    "for i in range(10):\n",
    "    days = datetime.timedelta(i)\n",
    "    e_date = p_date - days\n",
    "    n_date = e_date.strftime(\"%Y-%m-%d\")\n",
    "    URL = URL_1+n_date+URL_2\n",
    "    r = requests.get(URL,allow_redirects=True)\n",
    "    f_name = n_date+extension\n",
    "    open(f_name,'wb').write(r.content)\n",
    "    print('saved' + f_name)"
   ]
  },
  {
   "cell_type": "code",
   "execution_count": 17,
   "metadata": {},
   "outputs": [
    {
     "name": "stdout",
     "output_type": "stream",
     "text": [
      "saved 2020-10-20BW.JPEG\n",
      "saved 2020-10-19BW.JPEG\n",
      "saved 2020-10-18BW.JPEG\n",
      "saved 2020-10-17BW.JPEG\n",
      "saved 2020-10-16BW.JPEG\n",
      "saved 2020-10-15BW.JPEG\n",
      "saved 2020-10-14BW.JPEG\n",
      "saved 2020-10-13BW.JPEG\n",
      "saved 2020-10-12BW.JPEG\n",
      "saved 2020-10-11BW.JPEG\n"
     ]
    }
   ],
   "source": [
    "for i in range(10):\n",
    "    days = datetime.timedelta(i)\n",
    "    e_date = p_date - days\n",
    "    n_date = e_date.strftime(\"%Y-%m-%d\")\n",
    "    file_name = n_date+'.JPEG'\n",
    "    image = PIL.Image.open(file_name)\n",
    "    greyscale_img = image.convert(mode=\"1\", dither=Image.NONE)\n",
    "    greyscale_img = greyscale_img.convert('L')\n",
    "    inverted_image = PIL.ImageOps.invert(greyscale_img)\n",
    "    n_name = n_date+'BW.JPEG'\n",
    "    save_image(inverted_image,n_name)\n",
    "    print('saved '+n_name)"
   ]
  },
  {
   "cell_type": "code",
   "execution_count": null,
   "metadata": {},
   "outputs": [],
   "source": []
  }
 ],
 "metadata": {
  "kernelspec": {
   "display_name": "Python 3",
   "language": "python",
   "name": "python3"
  },
  "language_info": {
   "codemirror_mode": {
    "name": "ipython",
    "version": 3
   },
   "file_extension": ".py",
   "mimetype": "text/x-python",
   "name": "python",
   "nbconvert_exporter": "python",
   "pygments_lexer": "ipython3",
   "version": "3.7.4"
  }
 },
 "nbformat": 4,
 "nbformat_minor": 4
}
