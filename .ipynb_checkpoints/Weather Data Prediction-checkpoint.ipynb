{
 "cells": [
  {
   "cell_type": "code",
   "execution_count": 265,
   "metadata": {},
   "outputs": [],
   "source": [
    "import requests\n",
    "from datetime import date\n",
    "import datetime\n",
    "import PIL\n",
    "from PIL import Image\n",
    "import PIL.ImageOps\n",
    "import os\n",
    "import numpy\n",
    "import pandas as pd\n",
    "from requests.exceptions import ConnectionError\n",
    "import cv2\n",
    "import tensorflow as tf\n",
    "from keras.models import Sequential\n",
    "from keras.layers import Dense\n",
    "from keras.utils import to_categorical"
   ]
  },
  {
   "cell_type": "code",
   "execution_count": 2,
   "metadata": {},
   "outputs": [],
   "source": [
    "# Save Image\n",
    "def save_image(image, path):\n",
    "    if os.path.exists(path):\n",
    "        os.remove(path)\n",
    "    \n",
    "    image.save(path, 'JPEG')\n",
    "\n",
    "def getdate(i):\n",
    "    p_date = date.today()\n",
    "    days = datetime.timedelta(i+1)\n",
    "    e_date = p_date - days\n",
    "    n_date = e_date.strftime(\"%Y-%m-%d\")\n",
    "    return n_date\n",
    "\n",
    "def openImage(i):\n",
    "    extension = '.JPEG'\n",
    "    n_date = getdate(i)\n",
    "    file_name = n_date + extension\n",
    "    image = PIL.Image.open(file_name)\n",
    "    return image"
   ]
  },
  {
   "cell_type": "code",
   "execution_count": 5,
   "metadata": {},
   "outputs": [
    {
     "name": "stdout",
     "output_type": "stream",
     "text": [
      "saved 2020-10-31.JPEG\n",
      "saved 2020-10-30.JPEG\n",
      "saved 2020-10-29.JPEG\n",
      "saved 2020-10-28.JPEG\n",
      "saved 2020-10-27.JPEG\n",
      "saved 2020-10-26.JPEG\n",
      "saved 2020-10-25.JPEG\n",
      "saved 2020-10-24.JPEG\n",
      "saved 2020-10-23.JPEG\n",
      "saved 2020-10-22.JPEG\n"
     ]
    }
   ],
   "source": [
    "try:\n",
    "    for i in range(10):\n",
    "        URL_1 = 'https://wvs.earthdata.nasa.gov/api/v1/snapshot?REQUEST=GetSnapshot&LAYERS=VIIRS_SNPP_CorrectedReflectance_TrueColor&CRS=EPSG:4326&TIME='\n",
    "        URL_2 = '&WRAP=DAY&BBOX=5.505452,79.264304,10.049224,82.491415&FORMAT=image/jpeg&WIDTH=1469&HEIGHT=2068&AUTOSCALE=TRUE&ts=1604169569770'\n",
    "        n_date = getdate(i)\n",
    "        URL = URL_1+n_date+URL_2\n",
    "        r = requests.get(URL,allow_redirects=True)\n",
    "        f_name = n_date+'.JPEG'\n",
    "        open(f_name,'wb').write(r.content)\n",
    "        print('saved ' + f_name)\n",
    "except ConnectionError:\n",
    "    print(\"Check your Internet Connection and try again\")"
   ]
  },
  {
   "cell_type": "code",
   "execution_count": 353,
   "metadata": {},
   "outputs": [
    {
     "name": "stdout",
     "output_type": "stream",
     "text": [
      "saved 2020-10-31.JPEG\n",
      "saved 2020-10-30.JPEG\n",
      "saved 2020-10-29.JPEG\n",
      "saved 2020-10-28.JPEG\n",
      "saved 2020-10-27.JPEG\n",
      "saved 2020-10-26.JPEG\n",
      "saved 2020-10-25.JPEG\n",
      "saved 2020-10-24.JPEG\n",
      "saved 2020-10-23.JPEG\n",
      "saved 2020-10-22.JPEG\n"
     ]
    }
   ],
   "source": [
    "train_images = []\n",
    "for i in range(10):\n",
    "    n_date = getdate(i)\n",
    "    image = openImage(i)\n",
    "    greyscale_img = image.convert(mode=\"1\", dither=Image.NONE)\n",
    "    greyscale_img = greyscale_img.convert('L')\n",
    "    inverted_image = PIL.ImageOps.invert(greyscale_img)\n",
    "    n_name = n_date+'.JPEG'\n",
    "    save_image(inverted_image,n_name)\n",
    "    print('saved '+n_name)\n",
    "    image_array = cv2.imread('2020-10-22.JPEG')\n",
    "    train_images.append(image_array)"
   ]
  },
  {
   "cell_type": "code",
   "execution_count": 355,
   "metadata": {},
   "outputs": [],
   "source": [
    "train_images = numpy.array(train_images)"
   ]
  },
  {
   "cell_type": "code",
   "execution_count": 356,
   "metadata": {},
   "outputs": [
    {
     "data": {
      "text/plain": [
       "(10, 2068, 1455, 3)"
      ]
     },
     "execution_count": 356,
     "metadata": {},
     "output_type": "execute_result"
    }
   ],
   "source": [
    "train_images.shape"
   ]
  },
  {
   "cell_type": "code",
   "execution_count": 303,
   "metadata": {},
   "outputs": [],
   "source": [
    "def count_blk_cover(i):\n",
    "    n_date = getdate(i)\n",
    "    im = openImage(i)\n",
    "    print('Processing Image '+str(im.filename))\n",
    "    count_blacks = 0\n",
    "    count_whites = 0\n",
    "    width, height = im.size\n",
    "    t_px=width*height\n",
    "\n",
    "    for h in range(height):\n",
    "        string = ''\n",
    "        for w in range(width):\n",
    "            cordinates = w,h\n",
    "            val = im.getpixel(cordinates)\n",
    "            if(val>0):\n",
    "                count_blacks += 1\n",
    "    return count_blacks\n",
    "\n",
    "def categorize_clouds(count_blacks):\n",
    "    cloud_category = 'None'\n",
    "    if (count_blacks/t_px)<0.1:\n",
    "        cloud_category = '1'\n",
    "    elif (count_blacks/t_px)<0.5:\n",
    "        cloud_category = '2'\n",
    "    elif (count_blacks/t_px)<0.9:\n",
    "        cloud_category = '3'\n",
    "    else:\n",
    "        cloud_category = '4'\n",
    "    return cloud_category\n"
   ]
  },
  {
   "cell_type": "code",
   "execution_count": 375,
   "metadata": {},
   "outputs": [
    {
     "name": "stdout",
     "output_type": "stream",
     "text": [
      "processing image 2020-10-31.JPEG\n",
      "processing image 2020-10-30.JPEG\n",
      "processing image 2020-10-29.JPEG\n",
      "processing image 2020-10-28.JPEG\n",
      "processing image 2020-10-27.JPEG\n",
      "processing image 2020-10-26.JPEG\n",
      "processing image 2020-10-25.JPEG\n",
      "processing image 2020-10-24.JPEG\n",
      "processing image 2020-10-23.JPEG\n",
      "processing image 2020-10-22.JPEG\n"
     ]
    }
   ],
   "source": [
    "cloud_cats = numpy.array([],dtype='U')\n",
    "for j in range(10):\n",
    "    black_count = count_blk_cover(j)\n",
    "    category = categorize_clouds(black_count)\n",
    "    cloud_cats = numpy.insert(cloud_cats,len(cloud_cats),category)"
   ]
  },
  {
   "cell_type": "code",
   "execution_count": 376,
   "metadata": {},
   "outputs": [
    {
     "data": {
      "text/plain": [
       "array(['3', '2', '2', '2', '3', '2', '3', '2', '2', '2'], dtype='<U1')"
      ]
     },
     "execution_count": 376,
     "metadata": {},
     "output_type": "execute_result"
    }
   ],
   "source": [
    "cloud_cats"
   ]
  },
  {
   "cell_type": "code",
   "execution_count": 369,
   "metadata": {},
   "outputs": [],
   "source": [
    "train_images = train_images.reshape(-1, (2068*1455*3))"
   ]
  },
  {
   "cell_type": "code",
   "execution_count": 377,
   "metadata": {},
   "outputs": [
    {
     "data": {
      "text/plain": [
       "10"
      ]
     },
     "execution_count": 377,
     "metadata": {},
     "output_type": "execute_result"
    }
   ],
   "source": [
    "len(cloud_cats)"
   ]
  },
  {
   "cell_type": "code",
   "execution_count": 371,
   "metadata": {},
   "outputs": [
    {
     "data": {
      "text/plain": [
       "(10, 9026820)"
      ]
     },
     "execution_count": 371,
     "metadata": {},
     "output_type": "execute_result"
    }
   ],
   "source": [
    "train_images.shape"
   ]
  },
  {
   "cell_type": "code",
   "execution_count": 372,
   "metadata": {},
   "outputs": [],
   "source": [
    "#building the model\n",
    "# 3 layers, 2 layers with 64 neurons and relu function\n",
    "# 1 layer with 10 neurons and softmax function\n",
    "model = Sequential()\n",
    "model.add(Dense(64, activation = 'relu',input_dim=9026820))\n",
    "model.add(Dense(64, activation = 'relu'))\n",
    "model.add(Dense(1 , activation = 'softmax'))"
   ]
  },
  {
   "cell_type": "code",
   "execution_count": 373,
   "metadata": {},
   "outputs": [],
   "source": [
    "#Compile the model\n",
    "#The loss function measures how well the model did on training, and the tries to improve on it using the optimizer\n",
    "model.compile(\n",
    "    optimizer='adam',\n",
    "    loss = 'categorical_crossentropy', #Classes that are greater than 2\n",
    "    metrics = ['accuracy']\n",
    ")"
   ]
  },
  {
   "cell_type": "code",
   "execution_count": null,
   "metadata": {},
   "outputs": [
    {
     "name": "stdout",
     "output_type": "stream",
     "text": [
      "Epoch 1/5\n"
     ]
    }
   ],
   "source": [
    "model.fit(\n",
    "    train_images,\n",
    "        to_categorical(cloud_cats), #Ex. 2 it expects [0,0,1,0,0,0,0,0,0]\n",
    "        epochs = 5, #number of iterations over the entire dataset to train on\n",
    "        batch_size = 5 #number of samples per gradient update for training    \n",
    ")"
   ]
  },
  {
   "cell_type": "code",
   "execution_count": 339,
   "metadata": {},
   "outputs": [],
   "source": [
    "# del(train_images)"
   ]
  }
 ],
 "metadata": {
  "kernelspec": {
   "display_name": "Python 3",
   "language": "python",
   "name": "python3"
  },
  "language_info": {
   "codemirror_mode": {
    "name": "ipython",
    "version": 3
   },
   "file_extension": ".py",
   "mimetype": "text/x-python",
   "name": "python",
   "nbconvert_exporter": "python",
   "pygments_lexer": "ipython3",
   "version": "3.7.4"
  }
 },
 "nbformat": 4,
 "nbformat_minor": 4
}
